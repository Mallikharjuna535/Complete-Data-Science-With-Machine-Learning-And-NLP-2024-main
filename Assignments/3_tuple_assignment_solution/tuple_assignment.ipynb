{
 "cells": [
  {
   "cell_type": "markdown",
   "id": "6cade624",
   "metadata": {},
   "source": [
    "# Module 3: Data Structures Assignments\n",
    "## Lesson 3.2: Tuples\n",
    "### Assignment 1: Creating and Accessing Tuples\n",
    "\n",
    "Create a tuple with the first 10 positive integers. Print the tuple.\n",
    "\n",
    "### Assignment 2: Accessing Tuple Elements\n",
    "\n",
    "Print the first, middle, and last elements of the tuple created in Assignment 1.\n",
    "\n",
    "### Assignment 3: Tuple Slicing\n",
    "\n",
    "Print the first three elements, the last three elements, and the elements from index 2 to 5 of the tuple created in Assignment 1.\n",
    "\n",
    "### Assignment 4: Nested Tuples\n",
    "\n",
    "Create a nested tuple representing a 3x3 matrix and print the matrix. Access and print the element at the second row and third column.\n",
    "\n",
    "### Assignment 5: Tuple Concatenation\n",
    "\n",
    "Concatenate two tuples: (1, 2, 3) and (4, 5, 6). Print the resulting tuple.\n",
    "\n",
    "### Assignment 6: Tuple Methods\n",
    "\n",
    "Create a tuple with duplicate elements and count the occurrences of an element. Find the index of the first occurrence of an element in the tuple.\n",
    "\n",
    "### Assignment 7: Unpacking Tuples\n",
    "\n",
    "Create a tuple with 5 elements and unpack it into 5 variables. Print the variables.\n",
    "\n",
    "### Assignment 8: Tuple Conversion\n",
    "\n",
    "Convert a list of the first 5 positive integers to a tuple. Print the tuple.\n",
    "\n",
    "### Assignment 9: Tuple of Tuples\n",
    "\n",
    "Create a tuple containing 3 tuples, each with 3 elements. Print the tuple of tuples.\n",
    "\n",
    "### Assignment 10: Tuple and List\n",
    "\n",
    "Create a tuple with the first 5 positive integers. Convert it to a list, append the number 6, and convert it back to a tuple. Print the resulting tuple.\n",
    "\n",
    "### Assignment 11: Tuple and String\n",
    "\n",
    "Create a tuple with the characters of a string. Join the tuple elements into a single string. Print the string.\n",
    "\n",
    "### Assignment 12: Tuple and Dictionary\n",
    "\n",
    "Create a dictionary with tuple keys and integer values. Print the dictionary.\n",
    "\n",
    "### Assignment 13: Nested Tuple Iteration\n",
    "\n",
    "Create a nested tuple and iterate over the elements, printing each element.\n",
    "\n",
    "### Assignment 14: Tuple and Set\n",
    "\n",
    "Create a tuple with duplicate elements. Convert it to a set to remove duplicates and print the resulting set.\n",
    "\n",
    "### Assignment 15: Tuple Functions\n",
    "\n",
    "Write functions that take a tuple and return the minimum, maximum, and sum of the elements. Print the results for a sample tuple."
   ]
  },
  {
   "cell_type": "code",
   "execution_count": 6,
   "metadata": {},
   "outputs": [
    {
     "name": "stdout",
     "output_type": "stream",
     "text": [
      "(1, 2, 3, 4, 5, 6, 7, 8, 9, 10)\n"
     ]
    }
   ],
   "source": [
    "'''tuple_1 = (1,2,3,4,5,6,7,8,9,10)\n",
    "print(tuple_1)'''\n",
    "\n",
    "tuple_1 = tuple(range(1,11))\n",
    "print(tuple_1)"
   ]
  },
  {
   "cell_type": "code",
   "execution_count": 13,
   "id": "e1693a1a",
   "metadata": {},
   "outputs": [
    {
     "name": "stdout",
     "output_type": "stream",
     "text": [
      "First Element : 1\n",
      "Middle Element : 6\n",
      "Second Element : 10\n"
     ]
    }
   ],
   "source": [
    "print(f\"First Element : {tuple_1[0]}\")\n",
    "print(f\"Middle Element : {tuple_1[len(tuple_1)//2]}\")\n",
    "print(f\"Second Element : {tuple_1[-1]}\")\n"
   ]
  },
  {
   "cell_type": "code",
   "execution_count": 16,
   "id": "58c6bb62",
   "metadata": {},
   "outputs": [
    {
     "name": "stdout",
     "output_type": "stream",
     "text": [
      "First 3 elements : (1, 2, 3)\n",
      "Last 3 elements : (8, 9, 10)\n",
      "Index 2 to 5 elements : (3, 4, 5, 6)\n"
     ]
    }
   ],
   "source": [
    "print(f\"First 3 elements : {tuple_1[0:3]}\")\n",
    "print(f\"Last 3 elements : {tuple_1[-3:]}\")\n",
    "print(f\"Index 2 to 5 elements : {tuple_1[2:6]}\")"
   ]
  },
  {
   "cell_type": "markdown",
   "id": "bd196d9e",
   "metadata": {},
   "source": [
    "Create a nested tuple representing a 3x3 matrix and print the matrix. Access and print the element at the second row and third column."
   ]
  },
  {
   "cell_type": "code",
   "execution_count": 18,
   "id": "2b8ff5f0",
   "metadata": {},
   "outputs": [
    {
     "name": "stdout",
     "output_type": "stream",
     "text": [
      "((1, 2, 3), (4, 5, 6), (7, 8, 9))\n",
      "Element at the 2nd Row and 3rd Coloumn : 6\n"
     ]
    }
   ],
   "source": [
    "tuple_mat = (\n",
    "    (1,2,3),\n",
    "    (4,5,6),\n",
    "    (7,8,9)\n",
    ")\n",
    "print(tuple_mat)\n",
    "\n",
    "print(f\"Element at the 2nd Row and 3rd Coloumn : {tuple_mat[1][2]}\")\n"
   ]
  },
  {
   "cell_type": "markdown",
   "id": "0a756048",
   "metadata": {},
   "source": [
    "Concatenate two tuples: (1, 2, 3) and (4, 5, 6). Print the resulting tuple."
   ]
  },
  {
   "cell_type": "code",
   "execution_count": 19,
   "id": "aa528011",
   "metadata": {},
   "outputs": [
    {
     "name": "stdout",
     "output_type": "stream",
     "text": [
      "Concating two tuples :  (1, 2, 3, 4, 5, 6)\n"
     ]
    }
   ],
   "source": [
    "t1 = (1,2,3)\n",
    "t2 = (4,5,6)\n",
    "\n",
    "print(\"Concating two tuples : \", t1 + t2)"
   ]
  },
  {
   "cell_type": "markdown",
   "id": "2a285478",
   "metadata": {},
   "source": [
    "Create a tuple with duplicate elements and count the occurrences of an element. Find the index of the first occurrence of an element in the tuple."
   ]
  },
  {
   "cell_type": "code",
   "execution_count": 30,
   "id": "95286032",
   "metadata": {},
   "outputs": [
    {
     "name": "stdout",
     "output_type": "stream",
     "text": [
      "(1, 4, 6, 2, 4, 6, 8, 9, 1, 10, 3, 8)\n",
      "2\n",
      "1\n"
     ]
    }
   ],
   "source": [
    "tuple_dup = (1,4,6,2,4,6,8,9,1,10,3,8)\n",
    "\n",
    "print(tuple_dup)\n",
    "\n",
    "print(tuple_dup.count(4))\n",
    "print(tuple_dup.index(4))\n"
   ]
  },
  {
   "cell_type": "code",
   "execution_count": 31,
   "id": "392f5dc3",
   "metadata": {},
   "outputs": [
    {
     "name": "stdout",
     "output_type": "stream",
     "text": [
      "1 2 3 4 5\n"
     ]
    }
   ],
   "source": [
    "tpl = (1, 2, 3, 4, 5)\n",
    "a, b, c, d, e = tpl\n",
    "print(a, b, c, d, e)"
   ]
  },
  {
   "cell_type": "markdown",
   "id": "513aac2e",
   "metadata": {},
   "source": [
    "Convert a list of the first 5 positive integers to a tuple. Print the tuple."
   ]
  },
  {
   "cell_type": "code",
   "execution_count": 34,
   "id": "aad30613",
   "metadata": {},
   "outputs": [
    {
     "name": "stdout",
     "output_type": "stream",
     "text": [
      "[0, 1, 2, 3, 4, 5]\n",
      "(0, 1, 2, 3, 4, 5)\n"
     ]
    }
   ],
   "source": [
    "lst = [i for i in range(6)]\n",
    "print(lst)\n",
    "tup1 = tuple(lst)\n",
    "print(tup1)"
   ]
  },
  {
   "cell_type": "markdown",
   "id": "6dcec212",
   "metadata": {},
   "source": [
    "create a tuple containing 3 tuples, each with 3 elements. Print the tuple of tuples."
   ]
  },
  {
   "cell_type": "code",
   "execution_count": 36,
   "id": "e9163f95",
   "metadata": {},
   "outputs": [
    {
     "name": "stdout",
     "output_type": "stream",
     "text": [
      "((1, 2, 3), (4, 5, 6), (7, 8, 9))\n"
     ]
    }
   ],
   "source": [
    "tuple_3 = (\n",
    "    (1,2,3),\n",
    "    (4,5,6),\n",
    "    (7,8,9)\n",
    ")\n",
    "print(tuple_3)"
   ]
  },
  {
   "cell_type": "markdown",
   "id": "3abaf7cc",
   "metadata": {},
   "source": [
    "Create a tuple with the first 5 positive integers. Convert it to a list, append the number 6, and convert it back to a tuple. Print the resulting tuple."
   ]
  },
  {
   "cell_type": "code",
   "execution_count": 43,
   "id": "299ff613",
   "metadata": {},
   "outputs": [
    {
     "name": "stdout",
     "output_type": "stream",
     "text": [
      "(1, 2, 3, 4, 5)\n",
      "[1, 2, 3, 4, 5]\n",
      "[1, 2, 3, 4, 5, 6]\n",
      "(1, 2, 3, 4, 5, 6)\n"
     ]
    }
   ],
   "source": [
    "tp1= (1,2,3,4,5)\n",
    "print(tpl)\n",
    "lst2 = list(tp1)\n",
    "print(lst2)\n",
    "lst2.append(6)\n",
    "print(lst2)\n",
    "tp2 = tuple(lst2)\n",
    "print(tp2)"
   ]
  },
  {
   "cell_type": "markdown",
   "id": "5f7b41e1",
   "metadata": {},
   "source": [
    "Create a tuple with the characters of a string. Join the tuple elements into a single string. Print the string."
   ]
  },
  {
   "cell_type": "code",
   "execution_count": 46,
   "id": "48dda28d",
   "metadata": {},
   "outputs": [
    {
     "name": "stdout",
     "output_type": "stream",
     "text": [
      "Arjun\n",
      "('A', 'r', 'j', 'u', 'n')\n",
      "Arjun\n"
     ]
    }
   ],
   "source": [
    "string = \"Arjun\"\n",
    "print(string)\n",
    "\n",
    "str_tup = tuple(string)\n",
    "print(str_tup)\n",
    "\n",
    "joined_str = ''.join(str_tup)\n",
    "print(joined_str)\n"
   ]
  },
  {
   "cell_type": "markdown",
   "id": "840df0ee",
   "metadata": {},
   "source": [
    "Create a dictionary with tuple keys and integer values. Print the dictionary."
   ]
  },
  {
   "cell_type": "code",
   "execution_count": 47,
   "id": "00549540",
   "metadata": {},
   "outputs": [
    {
     "name": "stdout",
     "output_type": "stream",
     "text": [
      "{(1, 2): 3, (4, 5): 6, (7, 8): 9}\n"
     ]
    }
   ],
   "source": [
    "tpl_dict = {\n",
    "    (1, 2): 3,\n",
    "    (4, 5): 6,\n",
    "    (7, 8): 9\n",
    "}\n",
    "print(tpl_dict)"
   ]
  },
  {
   "cell_type": "code",
   "execution_count": 48,
   "id": "dbca1ff6",
   "metadata": {},
   "outputs": [
    {
     "name": "stdout",
     "output_type": "stream",
     "text": [
      "1\n",
      "2\n",
      "3\n",
      "4\n",
      "5\n",
      "6\n",
      "7\n",
      "8\n",
      "9\n"
     ]
    }
   ],
   "source": [
    "tuple_3 = (\n",
    "    (1,2,3),\n",
    "    (4,5,6),\n",
    "    (7,8,9)\n",
    ")\n",
    "\n",
    "for i in tuple_3:\n",
    "    for j in i:\n",
    "        print(j)"
   ]
  },
  {
   "cell_type": "markdown",
   "id": "d8873818",
   "metadata": {},
   "source": [
    "Create a tuple with duplicate elements. Convert it to a set to remove duplicates and print the resulting set."
   ]
  },
  {
   "cell_type": "code",
   "execution_count": 50,
   "id": "8ceb0992",
   "metadata": {},
   "outputs": [
    {
     "name": "stdout",
     "output_type": "stream",
     "text": [
      "{1, 2, 3, 5, 6, 7, 8}\n"
     ]
    }
   ],
   "source": [
    "dup_tuple = (1,2,3,5,6,7,8,1,2,3,5)\n",
    "set_dup = set(dup_tuple)\n",
    "print(set_dup)"
   ]
  },
  {
   "cell_type": "markdown",
   "id": "5c2eee28",
   "metadata": {},
   "source": [
    "Write functions that take a tuple and return the minimum, maximum, and sum of the elements. Print the results for a sample tuple."
   ]
  },
  {
   "cell_type": "code",
   "execution_count": 53,
   "id": "730f8c35",
   "metadata": {},
   "outputs": [
    {
     "name": "stdout",
     "output_type": "stream",
     "text": [
      "Min element in Tuple : 8\n",
      "Max element in Tuple : 58\n",
      "Sum element in Tuple : 344\n"
     ]
    }
   ],
   "source": [
    "def min_tup(tpl5):\n",
    "    return min(tpl5)\n",
    "\n",
    "def max_tup(tpl5):\n",
    "    return max(tpl5)\n",
    "\n",
    "def sum_tup(tpl5):\n",
    "    return sum(tpl5)\n",
    "\n",
    "tuple_ele = (35,36,58,44,57,8,9,34,30,33)\n",
    "\n",
    "print(f\"Min element in Tuple : {min_tup(tuple_ele)}\")\n",
    "print(f\"Max element in Tuple : {max_tup(tuple_ele)}\")\n",
    "print(f\"Sum element in Tuple : {sum_tup(tuple_ele)}\")"
   ]
  },
  {
   "cell_type": "code",
   "execution_count": null,
   "id": "d2e5bb48",
   "metadata": {},
   "outputs": [],
   "source": []
  }
 ],
 "metadata": {
  "kernelspec": {
   "display_name": "Python 3",
   "language": "python",
   "name": "python3"
  },
  "language_info": {
   "codemirror_mode": {
    "name": "ipython",
    "version": 3
   },
   "file_extension": ".py",
   "mimetype": "text/x-python",
   "name": "python",
   "nbconvert_exporter": "python",
   "pygments_lexer": "ipython3",
   "version": "3.12.4"
  }
 },
 "nbformat": 4,
 "nbformat_minor": 5
}
